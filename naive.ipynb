{
 "cells": [
  {
   "cell_type": "code",
   "execution_count": 1,
   "metadata": {},
   "outputs": [
    {
     "name": "stdout",
     "output_type": "stream",
     "text": [
      "resultant matrix is : \n",
      "  [[ 8 10 12]\n",
      " [14 16 18]]\n"
     ]
    }
   ],
   "source": [
    "#1.program to add to two matrix\n",
    "import numpy as np\n",
    "a1=np.array([[1,2,3],[4,5,6]])\n",
    "b1=np.array([[7,8,9],[10,11,12]])\n",
    "a3=a1+b1\n",
    "print(\"resultant matrix is : \\n \",a3)\n"
   ]
  },
  {
   "cell_type": "code",
   "execution_count": 14,
   "metadata": {},
   "outputs": [
    {
     "name": "stdout",
     "output_type": "stream",
     "text": [
      "enter the string: Aeroplane\n",
      "The count is:  5\n"
     ]
    }
   ],
   "source": [
    "#2.count of vowels present in a string\n",
    "s=input(\"enter the string: \")\n",
    "c=0\n",
    "for x in s:\n",
    "    if(x=='a' or x=='A' or x=='e' or x=='E' or x=='i' or x=='I' or x=='o' or x=='O' or x=='u' or x=='U'):\n",
    "        c=c+1\n",
    "print(\"The count is: \", c)"
   ]
  },
  {
   "cell_type": "code",
   "execution_count": 5,
   "metadata": {},
   "outputs": [
    {
     "name": "stdout",
     "output_type": "stream",
     "text": [
      "\n",
      "Labels = ['green', 'red', 'black']\n",
      "Encoded values = [1, 2, 0]\n",
      "\n",
      "Encoded values = [3, 0, 4, 1]\n",
      "\n",
      "Decoded labels = ['white', 'black', 'yellow', 'green']\n"
     ]
    }
   ],
   "source": [
    "import numpy as np \n",
    "from sklearn import preprocessing\n",
    "input_labels = ['red','black','red','green','black','yellow','white']\n",
    "encoder = preprocessing.LabelEncoder()\n",
    "encoder.fit(input_labels)\n",
    "test_labels = ['green','red','black']\n",
    "\n",
    "encoded_values = encoder.transform(test_labels)\n",
    "\n",
    "print(\"\\nLabels =\", test_labels)\n",
    "\n",
    "print(\"Encoded values =\", list(encoded_values))\n",
    "\n",
    "encoded_values = [3,0,4,1]\n",
    "\n",
    "decoded_list = encoder.inverse_transform(encoded_values)\n",
    "print(\"\\nEncoded values =\", encoded_values)\n",
    "print(\"\\nDecoded labels =\", list(decoded_list))"
   ]
  },
  {
   "cell_type": "code",
   "execution_count": 6,
   "metadata": {},
   "outputs": [
    {
     "name": "stdout",
     "output_type": "stream",
     "text": [
      "\n",
      "Encoded values = [2, 0, 4, 1]\n",
      "\n",
      "Decoded labels = ['red', 'black', 'yellow', 'green']\n"
     ]
    }
   ],
   "source": [
    "import numpy as np \n",
    "from sklearn import preprocessing\n",
    "input_labels = ['red','black','red','green','black','yellow','white']\n",
    "encoder = preprocessing.LabelEncoder()\n",
    "encoder.fit(input_labels)\n",
    "\n",
    "\n",
    "encoded_values = [2,0,4,1]\n",
    "\n",
    "decoded_list = encoder.inverse_transform(encoded_values)\n",
    "print(\"\\nEncoded values =\", encoded_values)\n",
    "print(\"\\nDecoded labels =\", list(decoded_list))"
   ]
  },
  {
   "cell_type": "code",
   "execution_count": 7,
   "metadata": {
    "scrolled": true
   },
   "outputs": [
    {
     "name": "stdout",
     "output_type": "stream",
     "text": [
      "     sepal_length  sepal_width  petal_length  petal_width  species\n",
      "0             5.1          3.5           1.4          0.2        0\n",
      "1             4.9          3.0           1.4          0.2        0\n",
      "2             4.7          3.2           1.3          0.2        0\n",
      "3             4.6          3.1           1.5          0.2        0\n",
      "4             5.0          3.6           1.4          0.2        0\n",
      "..            ...          ...           ...          ...      ...\n",
      "145           6.7          3.0           5.2          2.3        2\n",
      "146           6.3          2.5           5.0          1.9        2\n",
      "147           6.5          3.0           5.2          2.0        2\n",
      "148           6.2          3.4           5.4          2.3        2\n",
      "149           5.9          3.0           5.1          1.8        2\n",
      "\n",
      "[150 rows x 5 columns]\n",
      "encoded values are:  [0, 1, 2] \t decoded list: ['setosa' 'versicolor' 'virginica']\n"
     ]
    }
   ],
   "source": [
    "from pandas import read_csv\n",
    "from numpy import set_printoptions\n",
    "from sklearn import preprocessing\n",
    "with open('iris.csv','r') as path:\n",
    "    df=read_csv(path,delimiter=',')\n",
    "    array=df.values\n",
    "    \n",
    "    # LABELING OF SPECIES\n",
    "    \n",
    "    encoder = preprocessing.LabelEncoder()\n",
    "    df['species']=encoder.fit_transform(df['species'])\n",
    "    print(df)\n",
    "    encoded_value=[0,1,2]\n",
    "    decoded_list=encoder.inverse_transform(encoded_value)\n",
    "    print(\"encoded values are: \", encoded_value,\"\\t decoded list:\", decoded_list)\n"
   ]
  },
  {
   "cell_type": "code",
   "execution_count": 8,
   "metadata": {},
   "outputs": [
    {
     "name": "stdout",
     "output_type": "stream",
     "text": [
      "\n",
      "Scaled data:\n",
      " [[0.2 0.6 0.1 0. ]\n",
      " [0.2 0.4 0.1 0. ]\n",
      " [0.1 0.5 0.1 0. ]\n",
      " [0.1 0.5 0.1 0. ]\n",
      " [0.2 0.7 0.1 0. ]\n",
      " [0.3 0.8 0.1 0.1]\n",
      " [0.1 0.6 0.1 0.1]\n",
      " [0.2 0.6 0.1 0. ]\n",
      " [0.  0.4 0.1 0. ]\n",
      " [0.2 0.5 0.1 0. ]]\n"
     ]
    }
   ],
   "source": [
    "#scaling of data\n",
    "array = df.drop(columns=['species']).values\n",
    "data_scaler = preprocessing.MinMaxScaler(feature_range=(0,1)) \n",
    "data_rescaled = data_scaler.fit_transform(array)\n",
    "set_printoptions(precision=1) \n",
    "print (\"\\nScaled data:\\n\", data_rescaled[0:10]) "
   ]
  },
  {
   "cell_type": "code",
   "execution_count": 9,
   "metadata": {},
   "outputs": [
    {
     "name": "stdout",
     "output_type": "stream",
     "text": [
      "\n",
      "Normalized data:\n",
      " [[0.5  0.34 0.14 0.02]\n",
      " [0.52 0.32 0.15 0.02]\n",
      " [0.5  0.34 0.14 0.02]]\n"
     ]
    }
   ],
   "source": [
    "#Normalisation\n",
    "Data_normalizer = preprocessing.Normalizer(norm='l1').fit(array) \n",
    "Data_normalized = Data_normalizer.transform(array)\n",
    "set_printoptions(precision=2) \n",
    "print (\"\\nNormalized data:\\n\", Data_normalized [0:3])"
   ]
  },
  {
   "cell_type": "code",
   "execution_count": 10,
   "metadata": {},
   "outputs": [
    {
     "name": "stdout",
     "output_type": "stream",
     "text": [
      "\n",
      "Binary data:\n",
      " [[1. 1. 1. 0.]\n",
      " [1. 1. 1. 0.]\n",
      " [1. 1. 1. 0.]\n",
      " [1. 1. 1. 0.]\n",
      " [1. 1. 1. 0.]]\n"
     ]
    }
   ],
   "source": [
    "#Binarisation\n",
    "binarizer = preprocessing.Binarizer(threshold=0.5).fit(array) \n",
    "Data_binarized = binarizer.transform(array)\n",
    "print (\"\\nBinary data:\\n\", Data_binarized [0:5])"
   ]
  },
  {
   "cell_type": "code",
   "execution_count": 11,
   "metadata": {},
   "outputs": [
    {
     "name": "stdout",
     "output_type": "stream",
     "text": [
      "accuracy is  0.9111111111111111\n",
      "size of training and testing data are  (105, 4) (45, 4) (105,) (45,)\n"
     ]
    },
    {
     "name": "stderr",
     "output_type": "stream",
     "text": [
      "C:\\Users\\hp\\anaconda3\\lib\\site-packages\\sklearn\\linear_model\\_logistic.py:762: ConvergenceWarning: lbfgs failed to converge (status=1):\n",
      "STOP: TOTAL NO. of ITERATIONS REACHED LIMIT.\n",
      "\n",
      "Increase the number of iterations (max_iter) or scale the data as shown in:\n",
      "    https://scikit-learn.org/stable/modules/preprocessing.html\n",
      "Please also refer to the documentation for alternative solver options:\n",
      "    https://scikit-learn.org/stable/modules/linear_model.html#logistic-regression\n",
      "  n_iter_i = _check_optimize_result(\n"
     ]
    }
   ],
   "source": [
    "# TRAINING AND TESTING\n",
    "from sklearn .model_selection import train_test_split\n",
    "from sklearn .linear_model import LogisticRegression\n",
    "x=df.drop(columns=['species'])\n",
    "y=df['species']\n",
    "x_train,x_test,y_train,y_test=train_test_split(x,y,test_size=0.3)\n",
    "model=LogisticRegression()\n",
    "model.fit(x_train,y_train)\n",
    "print(\"accuracy is \" ,model.score(x_test,y_test))\n",
    "print(\"size of training and testing data are \",x_train.shape,x_test.shape,y_train.shape,y_test.shape)"
   ]
  },
  {
   "cell_type": "code",
   "execution_count": 12,
   "metadata": {},
   "outputs": [
    {
     "name": "stdout",
     "output_type": "stream",
     "text": [
      "Predicted species is  [1]\n",
      "accuracy is  0.9111111111111111\n"
     ]
    }
   ],
   "source": [
    "#PREDICTION AND ACCURACY\n",
    "from sklearn.naive_bayes import GaussianNB\n",
    "gnb=GaussianNB()\n",
    "gnb.fit(x_train,y_train)\n",
    "predicted=gnb.predict([[5.7,2.8,4.1,1.3]])\n",
    "print(\"Predicted species is \",predicted)\n",
    "print(\"accuracy is \" ,gnb.score(x_test,y_test))"
   ]
  },
  {
   "cell_type": "code",
   "execution_count": 13,
   "metadata": {},
   "outputs": [
    {
     "data": {
      "image/png": "[encoded data removed]",
      "text/plain": [
       "<Figure size 432x288 with 6 Axes>"
      ]
     },
     "metadata": {
      "needs_background": "light"
     },
     "output_type": "display_data"
    }
   ],
   "source": [
    "#HISTOGRAM\n",
    "from matplotlib import pyplot\n",
    "head=['sepal_length' ,'sepal_width' ,'petal_length' ,'petal_width' ,'species']\n",
    "correlations=df.corr()\n",
    "df.hist()\n",
    "pyplot.show()\n"
   ]
  },
  {
   "cell_type": "code",
   "execution_count": null,
   "metadata": {},
   "outputs": [],
   "source": []
  },
  {
   "cell_type": "code",
   "execution_count": 112,
   "metadata": {},
   "outputs": [
    {
     "name": "stdout",
     "output_type": "stream",
     "text": [
      "       sepal_length  sepal_width  petal_length  petal_width     species\n",
      "count    150.000000   150.000000    150.000000   150.000000  150.000000\n",
      "mean       5.843333     3.054000      3.758667     1.198667    1.000000\n",
      "std        0.828066     0.433594      1.764420     0.763161    0.819232\n",
      "min        4.300000     2.000000      1.000000     0.100000    0.000000\n",
      "25%        5.100000     2.800000      1.600000     0.300000    0.000000\n",
      "50%        5.800000     3.000000      4.350000     1.300000    1.000000\n",
      "75%        6.400000     3.300000      5.100000     1.800000    2.000000\n",
      "max        7.900000     4.400000      6.900000     2.500000    2.000000\n"
     ]
    }
   ],
   "source": [
    "print(df.describe())\n"
   ]
  },
  {
   "cell_type": "code",
   "execution_count": null,
   "metadata": {},
   "outputs": [],
   "source": []
  }
 ],
 "metadata": {
  "kernelspec": {
   "display_name": "Python 3",
   "language": "python",
   "name": "python3"
  },
  "language_info": {
   "codemirror_mode": {
    "name": "ipython",
    "version": 3
   },
   "file_extension": ".py",
   "mimetype": "text/x-python",
   "name": "python",
   "nbconvert_exporter": "python",
   "pygments_lexer": "ipython3",
   "version": "3.8.5"
  }
 },
 "nbformat": 4,
 "nbformat_minor": 4
}
