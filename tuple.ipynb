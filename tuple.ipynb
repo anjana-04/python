{
 "cells": [
  {
   "cell_type": "code",
   "execution_count": 10,
   "metadata": {},
   "outputs": [
    {
     "name": "stdout",
     "output_type": "stream",
     "text": [
      "(123, 4, 5, 'abc', 'xyz')\n",
      "5\n",
      "('abc', 'xyz', 'abc', 'xyz', 'abc', 'xyz')\n",
      "True\n",
      "xyz\n",
      "<class 'tuple'>\n",
      "<class 'tuple'>\n"
     ]
    }
   ],
   "source": [
    "tup1=(123,4,5)\n",
    "tup2=('abc','xyz')\n",
    "li=[1,2,4]\n",
    "tup3=tup1+tup2\n",
    "print(tup3)\n",
    "print(len(tup3))\n",
    "print(tup2*3)\n",
    "print('abc' in tup2)\n",
    "print(max(tup2))\n",
    "print(type(tup1))\n",
    "li=tuple(li)\n",
    "print(type(li))\n"
   ]
  },
  {
   "cell_type": "code",
   "execution_count": 13,
   "metadata": {},
   "outputs": [
    {
     "name": "stdout",
     "output_type": "stream",
     "text": [
      "apple\n",
      "3\n",
      "cherry\n"
     ]
    }
   ],
   "source": [
    "f=(\"apple\",'banana','cherry')\n",
    "print(f[0]) #1st item in tuple\n",
    "print(len(f)) #no. of items in tuple\n",
    "print(f[-1]) #last item in tuple\n"
   ]
  },
  {
   "cell_type": "code",
   "execution_count": 21,
   "metadata": {},
   "outputs": [
    {
     "name": "stdout",
     "output_type": "stream",
     "text": [
      "[0, 'a', 3, 4, 'hello', [0, 9, 8], 0, 9, 8]\n",
      "[0, 'a', 3, 4, 'hello', [0, 9, 8], 0, 9]\n",
      "[9, 0, [0, 9, 8], 'hello', 4, 3, 'a', 0]\n"
     ]
    }
   ],
   "source": [
    "li=[0,'a',3,4,'hello']\n",
    "li1=[0,9,8]\n",
    "li.append(li1) #add element at end\n",
    "li.extend(li1) #add sequence at end\n",
    "print(li)\n",
    "li.remove(8)\n",
    "print(li)\n",
    "li.reverse()\n",
    "print(li)"
   ]
  },
  {
   "cell_type": "code",
   "execution_count": 22,
   "metadata": {},
   "outputs": [
    {
     "name": "stdout",
     "output_type": "stream",
     "text": [
      "['kiwi', 'banana', 'cherry']\n",
      "['kiwi', 'banana', 'cherry', 'orange']\n",
      "['kiwi', 'lemon', 'banana', 'cherry', 'orange']\n",
      "['kiwi', 'lemon', 'cherry', 'orange']\n"
     ]
    }
   ],
   "source": [
    "f=[\"apple\",'banana','cherry']\n",
    "f[0]=\"kiwi\" #change value from apple to kiwi\n",
    "print(f)\n",
    "f.append(\"orange\") #adds orange at end\n",
    "print(f)\n",
    "f.insert(1,\"lemon\") #add lemon as 2nd item\n",
    "print(f)\n",
    "f.remove(\"banana\") #removes banana from \n",
    "print(f)\n"
   ]
  },
  {
   "cell_type": "code",
   "execution_count": null,
   "metadata": {},
   "outputs": [],
   "source": []
  }
 ],
 "metadata": {
  "kernelspec": {
   "display_name": "Python 3",
   "language": "python",
   "name": "python3"
  },
  "language_info": {
   "codemirror_mode": {
    "name": "ipython",
    "version": 3
   },
   "file_extension": ".py",
   "mimetype": "text/x-python",
   "name": "python",
   "nbconvert_exporter": "python",
   "pygments_lexer": "ipython3",
   "version": "3.8.5"
  }
 },
 "nbformat": 4,
 "nbformat_minor": 4
}
