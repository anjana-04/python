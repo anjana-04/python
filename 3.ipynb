{
 "cells": [
  {
   "cell_type": "code",
   "execution_count": 6,
   "metadata": {},
   "outputs": [
    {
     "name": "stdout",
     "output_type": "stream",
     "text": [
      "HELLO1\n",
      "2\n",
      "False\n",
      "False\n",
      "False\n",
      "True\n"
     ]
    }
   ],
   "source": [
    "s=\"hello1\"\n",
    "print(s.upper())\n",
    "print(s.find('l'))\n",
    "print(s.startswith('e'))\n",
    "print(s.isalpha())\n",
    "print(s.isdigit())\n",
    "print(s.isalnum())"
   ]
  },
  {
   "cell_type": "code",
   "execution_count": 7,
   "metadata": {},
   "outputs": [
    {
     "name": "stdout",
     "output_type": "stream",
     "text": [
      "My name is anjali and my age is 24.I live in kerala.I am doing course in Deep learning.\n"
     ]
    }
   ],
   "source": [
    "name='anjali'\n",
    "age='24'\n",
    "place='kerala'\n",
    "course='Deep learning'\n",
    "print(f'My name is {name} and my age is {age}.I live in {place}.I am doing course in {course}.' )"
   ]
  },
  {
   "cell_type": "code",
   "execution_count": 8,
   "metadata": {},
   "outputs": [
    {
     "name": "stdout",
     "output_type": "stream",
     "text": [
      "I love java and python.\n"
     ]
    }
   ],
   "source": [
    "print(\"I love {0} and {1}.\".format(\"java\",'python'))"
   ]
  },
  {
   "cell_type": "code",
   "execution_count": 9,
   "metadata": {},
   "outputs": [
    {
     "name": "stdout",
     "output_type": "stream",
     "text": [
      "I love java and python.\n"
     ]
    }
   ],
   "source": [
    "t=(\"java\",'python')\n",
    "print(\"I love {0} and {1}.\".format(*t))"
   ]
  },
  {
   "cell_type": "code",
   "execution_count": 10,
   "metadata": {},
   "outputs": [
    {
     "name": "stdout",
     "output_type": "stream",
     "text": [
      "True\n",
      "True\n",
      "True\n"
     ]
    }
   ],
   "source": [
    "fruit='Apple'\n",
    "print(fruit=='Apple')\n",
    "print(fruit<'Apples')\n",
    "print(fruit>='Apple')"
   ]
  },
  {
   "cell_type": "code",
   "execution_count": null,
   "metadata": {},
   "outputs": [],
   "source": []
  }
 ],
 "metadata": {
  "kernelspec": {
   "display_name": "Python 3",
   "language": "python",
   "name": "python3"
  },
  "language_info": {
   "codemirror_mode": {
    "name": "ipython",
    "version": 3
   },
   "file_extension": ".py",
   "mimetype": "text/x-python",
   "name": "python",
   "nbconvert_exporter": "python",
   "pygments_lexer": "ipython3",
   "version": "3.8.5"
  }
 },
 "nbformat": 4,
 "nbformat_minor": 4
}
